{
 "cells": [
  {
   "cell_type": "code",
   "execution_count": 1,
   "id": "0b97cd17",
   "metadata": {
    "scrolled": true
   },
   "outputs": [],
   "source": [
    "# Group members :\n",
    "\n",
    "# Nupoor Kumbhar 2351355 ,\n",
    "# Kunduru Neha Sivatmika 2351359 ,\n",
    "# Vamshi Krishna Madhavan 2344937 ,\n",
    "# Bala Vamsi Maddineni 2352004."
   ]
  },
  {
   "cell_type": "code",
   "execution_count": 2,
   "id": "7fe5e6cb",
   "metadata": {},
   "outputs": [
    {
     "name": "stdout",
     "output_type": "stream",
     "text": [
      "RMSE on the training data: 2.2612974158570274\n",
      "RMSE on the testing data: 2.7164790056099712\n",
      "weight : [-1.73098146 -1.06477448 -2.94603393] \n",
      "bias :  20.168\n"
     ]
    }
   ],
   "source": [
    "#Part3\n",
    "\n",
    "# Import the data file mtcars.csv. The goal is to determine two or three\n",
    "# continuous numerical variables that can be used to predict mpg (miles per gallon)\n",
    "# using multiple linear regression. You can use sklearn or custom class; batch GD,\n",
    "# SGD, or mini-batch SGD; and scaling.\n",
    "\n",
    "import pandas as pd\n",
    "import numpy as np\n",
    "from sklearn.model_selection import train_test_split\n",
    "from sklearn.linear_model import LinearRegression\n",
    "from sklearn.preprocessing import StandardScaler\n",
    "from sklearn.metrics import mean_squared_error\n",
    "\n",
    "#Loading the mtcars dataset\n",
    "mtcars = pd.read_csv(\"mtcars.csv\")\n",
    "\n",
    "#Selecting suitable continuous numerical variables that is 'cyl', 'hp', and 'wt as the target variable\n",
    "X = mtcars[['cyl', 'hp', 'wt']]\n",
    "y = mtcars['mpg']\n",
    "\n",
    "#Split the data into training and testing sets, 20% of test_training dataset\n",
    "X_train, X_test, y_train, y_test = train_test_split(X, y, test_size=0.2, random_state=42)\n",
    "\n",
    "#Scale the features using StandardScaler\n",
    "scaler = StandardScaler()\n",
    "X_train_scaled = scaler.fit_transform(X_train)\n",
    "X_test_scaled = scaler.transform(X_test)\n",
    "\n",
    "#Training a multiple linear regression model using sklearn LinearRegression\n",
    "multi_linear_reg_model = LinearRegression()\n",
    "multi_linear_reg_model.fit(X_train_scaled, y_train)\n",
    "\n",
    "#Evaluating and Predicting the model's performance on the training set\n",
    "train_predictions = multi_linear_reg_model.predict(X_train_scaled)\n",
    "train_rmse = np.sqrt(mean_squared_error(y_train, train_predictions))\n",
    "\n",
    "#Predictions on the testing set\n",
    "test_predictions = multi_linear_reg_model.predict(X_test_scaled)\n",
    "test_rmse = np.sqrt(mean_squared_error(y_test, test_predictions))\n",
    "\n",
    "print(f\"RMSE on the training data: {train_rmse}\")\n",
    "print(f\"RMSE on the testing data: {test_rmse}\")\n",
    "\n",
    "w = multi_linear_reg_model.coef_\n",
    "b = multi_linear_reg_model.intercept_\n",
    "\n",
    "#Evaluating weight and bias from the trained model\n",
    "print(\"weight :\",w,\"\\nbias : \", b)"
   ]
  }
 ],
 "metadata": {
  "kernelspec": {
   "display_name": "Python 3 (ipykernel)",
   "language": "python",
   "name": "python3"
  },
  "language_info": {
   "codemirror_mode": {
    "name": "ipython",
    "version": 3
   },
   "file_extension": ".py",
   "mimetype": "text/x-python",
   "name": "python",
   "nbconvert_exporter": "python",
   "pygments_lexer": "ipython3",
   "version": "3.11.4"
  }
 },
 "nbformat": 4,
 "nbformat_minor": 5
}
